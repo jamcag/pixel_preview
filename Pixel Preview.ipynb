{
  "metadata": {
    "language_info": {
      "codemirror_mode": {
        "name": "python",
        "version": 3
      },
      "file_extension": ".py",
      "mimetype": "text/x-python",
      "name": "python",
      "nbconvert_exporter": "python",
      "pygments_lexer": "ipython3",
      "version": "3.8"
    },
    "kernelspec": {
      "name": "python",
      "display_name": "Python (Pyodide)",
      "language": "python"
    }
  },
  "nbformat_minor": 4,
  "nbformat": 4,
  "cells": [
    {
      "cell_type": "code",
      "source": "import matplotlib.pyplot as plt\nimport numpy as np",
      "metadata": {
        "trusted": true
      },
      "execution_count": null,
      "outputs": []
    },
    {
      "cell_type": "code",
      "source": "def make_image(pix, height, width):\n    im = np.ones((width, height), dtype=np.uint8) * 255\n    for x, y in pix:\n        im[x][y] = 0\n    # We transpose since images are column order in matplotlib.\n    return im.T ",
      "metadata": {
        "trusted": true
      },
      "execution_count": null,
      "outputs": []
    },
    {
      "cell_type": "code",
      "source": "plt.imshow(make_image([(2, 0), (3, 0), (4, 0), (5, 0), \n                       (2, 2), (3, 1), (3, 2), (3, 3), (4, 2),\n                       (0, 3), (1, 3), (2, 3), (2, 4), (2, 5),\n                       (4, 3), (4, 4), (4, 5), (4, 6),\n                       (4, 7), (4, 8), (5, 7), (5, 8),\n                       (1, 9), (2, 9), (3, 9), (4, 9),\n                       (1, 11), (2, 10), (2, 11), (2, 12), (3, 11),\n                       (3, 12), (4, 12), (5, 12), (5, 13), (5, 14),\n                       (4, 13), (4, 14), (4, 15), (4, 16),\n                       (0, 12), (0, 13), (1, 12), (1, 13)\n                      ],\n                      20, 7), cmap=\"gray\")\nplt.gca().invert_yaxis()",
      "metadata": {
        "trusted": true
      },
      "execution_count": null,
      "outputs": []
    }
  ]
}